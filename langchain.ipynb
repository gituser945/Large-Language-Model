{
 "cells": [
  {
   "cell_type": "code",
   "execution_count": 7,
   "metadata": {},
   "outputs": [],
   "source": [
    "#pip3 install langchain==0.1.12\n",
    "#pip3 install langchain-openai == 0.0.8"
   ]
  },
  {
   "cell_type": "code",
   "execution_count": 1,
   "metadata": {},
   "outputs": [],
   "source": [
    "import yaml,openai,os\n",
    "\n",
    "with open(\"chatgpt_key.yml\",\"r\") as file:\n",
    "    api_creds = yaml.safe_load(file)\n",
    "\n",
    "os.environ[\"OPENAI_API_KEY\"] = api_creds['openai_key']"
   ]
  },
  {
   "cell_type": "code",
   "execution_count": 2,
   "metadata": {},
   "outputs": [],
   "source": [
    "from langchain_core.prompts import ChatPromptTemplate\n",
    "from langchain_openai import ChatOpenAI"
   ]
  },
  {
   "cell_type": "code",
   "execution_count": 3,
   "metadata": {},
   "outputs": [],
   "source": [
    "model = ChatOpenAI(model_name=\"gpt-3.5-turbo\",temperature=0)"
   ]
  },
  {
   "cell_type": "markdown",
   "metadata": {},
   "source": [
    "#### Create basic chain"
   ]
  },
  {
   "cell_type": "code",
   "execution_count": 4,
   "metadata": {},
   "outputs": [
    {
     "name": "stdout",
     "output_type": "stream",
     "text": [
      "Why did the bear break up with his girlfriend? \n",
      "\n",
      "Because he couldn't bear the relationship any longer!\n"
     ]
    }
   ],
   "source": [
    "PROMPT = \"tell me a joke about {topic}\"\n",
    "prompt = ChatPromptTemplate.from_template(PROMPT)\n",
    "chain = (\n",
    "            prompt\n",
    "            |\n",
    "            model\n",
    "        )\n",
    "\n",
    "response = chain.invoke({\"topic\":\"bears\"})\n",
    "print(response.content)\n"
   ]
  },
  {
   "cell_type": "code",
   "execution_count": 6,
   "metadata": {},
   "outputs": [],
   "source": [
    "# run on multiple prompt\n",
    "\n",
    "topics = [{'topic':'AI'},{'topic':'Statistics'}]\n",
    "responses = chain.map().invoke(topics)"
   ]
  },
  {
   "cell_type": "code",
   "execution_count": 10,
   "metadata": {},
   "outputs": [
    {
     "name": "stdout",
     "output_type": "stream",
     "text": [
      "Why did the AI break up with its computer? \n",
      "\n",
      "Because it found someone who could give it more bytes!\n",
      "-------------------------------------------------------------\n",
      "Why did the statistician go to the beach?\n",
      "\n",
      "To work on his tan-gent!\n",
      "-------------------------------------------------------------\n"
     ]
    }
   ],
   "source": [
    "for response in responses:\n",
    "    print(response.content)\n",
    "    print(\"-------------------------------------------------------------\")\n",
    "    "
   ]
  },
  {
   "cell_type": "markdown",
   "metadata": {},
   "source": [
    "##### No conversation history"
   ]
  },
  {
   "cell_type": "code",
   "execution_count": 12,
   "metadata": {},
   "outputs": [],
   "source": [
    "prompt = ChatPromptTemplate.from_template(\"{query}\")\n",
    "basic_chain = (\n",
    "            prompt\n",
    "            |\n",
    "            model\n",
    "        )"
   ]
  },
  {
   "cell_type": "code",
   "execution_count": 14,
   "metadata": {},
   "outputs": [
    {
     "name": "stdout",
     "output_type": "stream",
     "text": [
      "The first 4 colors in a rainbow are red, orange, yellow, and green.\n"
     ]
    }
   ],
   "source": [
    "response = basic_chain.invoke({\"query\":'What are the first 4 color in rainbow?'})\n",
    "print(response.content)"
   ]
  },
  {
   "cell_type": "code",
   "execution_count": 16,
   "metadata": {},
   "outputs": [
    {
     "name": "stdout",
     "output_type": "stream",
     "text": [
      "1. The Great Wall of China\n",
      "2. The Colosseum in Rome, Italy\n",
      "3. Machu Picchu in Peru\n"
     ]
    }
   ],
   "source": [
    "response = basic_chain.invoke({\"query\":'And other three?'})\n",
    "print(response.content)"
   ]
  },
  {
   "cell_type": "markdown",
   "metadata": {},
   "source": [
    "#### Add memory to build conversation chain"
   ]
  },
  {
   "cell_type": "code",
   "execution_count": 17,
   "metadata": {},
   "outputs": [],
   "source": [
    "from langchain.memory import ConversationBufferWindowMemory\n",
    "from langchain_core.prompts import ChatPromptTemplate, MessagesPlaceholder\n",
    "from langchain_core.runnables import RunnableLambda, RunnablePassthrough"
   ]
  },
  {
   "cell_type": "code",
   "execution_count": 18,
   "metadata": {},
   "outputs": [],
   "source": [
    "# create prompt template\n",
    "prompt = ChatPromptTemplate.from_messages(\n",
    "    [\n",
    "        (\"system\", \"Act as a helpful AI Assistant\"),\n",
    "        MessagesPlaceholder(variable_name=\"history\"),\n",
    "        (\"human\", \"{input}\"),\n",
    "    ]\n",
    ")\n",
    "# k=3 stores last 3 conversations between you and ChatGPT\n",
    "memory = ConversationBufferWindowMemory(k=3, return_messages=True)"
   ]
  },
  {
   "cell_type": "code",
   "execution_count": 19,
   "metadata": {},
   "outputs": [
    {
     "data": {
      "text/plain": [
       "{'history': []}"
      ]
     },
     "execution_count": 19,
     "metadata": {},
     "output_type": "execute_result"
    }
   ],
   "source": [
    "memory.load_memory_variables({}) # shows the conversation history"
   ]
  },
  {
   "cell_type": "code",
   "execution_count": 20,
   "metadata": {},
   "outputs": [],
   "source": [
    "from operator import itemgetter\n",
    "# creates the conversation chain\n",
    "chain = (\n",
    "    RunnablePassthrough.assign(\n",
    "        history=RunnableLambda(memory.load_memory_variables)\n",
    "        |\n",
    "        itemgetter(\"history\")\n",
    "    )\n",
    "    |\n",
    "    prompt\n",
    "    |\n",
    "    model\n",
    ")"
   ]
  },
  {
   "cell_type": "code",
   "execution_count": 21,
   "metadata": {},
   "outputs": [
    {
     "data": {
      "text/plain": [
       "'The first four colors of a rainbow are red, orange, yellow, and green.'"
      ]
     },
     "execution_count": 21,
     "metadata": {},
     "output_type": "execute_result"
    }
   ],
   "source": [
    "user_input = {'input': 'What are the first four colors of a rainbow'}\n",
    "response = chain.invoke(user_input)\n",
    "response.content"
   ]
  },
  {
   "cell_type": "code",
   "execution_count": 22,
   "metadata": {},
   "outputs": [
    {
     "data": {
      "text/plain": [
       "{'history': []}"
      ]
     },
     "execution_count": 22,
     "metadata": {},
     "output_type": "execute_result"
    }
   ],
   "source": [
    "memory.load_memory_variables({})"
   ]
  },
  {
   "cell_type": "code",
   "execution_count": 23,
   "metadata": {},
   "outputs": [
    {
     "data": {
      "text/plain": [
       "{'history': [HumanMessage(content='What are the first four colors of a rainbow'),\n",
       "  AIMessage(content='The first four colors of a rainbow are red, orange, yellow, and green.')]}"
      ]
     },
     "execution_count": 23,
     "metadata": {},
     "output_type": "execute_result"
    }
   ],
   "source": [
    "# remember to save your conversation to the memory\n",
    "memory.save_context(user_input, {\"output\": response.content})\n",
    "memory.load_memory_variables({}) # remembers the conversation history"
   ]
  },
  {
   "cell_type": "code",
   "execution_count": 24,
   "metadata": {},
   "outputs": [
    {
     "data": {
      "text/plain": [
       "'The last three colors of a rainbow are blue, indigo, and violet.'"
      ]
     },
     "execution_count": 24,
     "metadata": {},
     "output_type": "execute_result"
    }
   ],
   "source": [
    "user_input = {'input': 'And the last 3?'}\n",
    "response = chain.invoke(user_input) # uses history of the past conversation to give a better response\n",
    "response.content"
   ]
  },
  {
   "cell_type": "code",
   "execution_count": 25,
   "metadata": {},
   "outputs": [
    {
     "data": {
      "text/plain": [
       "{'history': [HumanMessage(content='What are the first four colors of a rainbow'),\n",
       "  AIMessage(content='The first four colors of a rainbow are red, orange, yellow, and green.'),\n",
       "  HumanMessage(content='And the last 3?'),\n",
       "  AIMessage(content='The last three colors of a rainbow are blue, indigo, and violet.')]}"
      ]
     },
     "execution_count": 25,
     "metadata": {},
     "output_type": "execute_result"
    }
   ],
   "source": [
    "memory.save_context(user_input, {\"output\": response.content})\n",
    "memory.load_memory_variables({})"
   ]
  }
 ],
 "metadata": {
  "kernelspec": {
   "display_name": "Python 3",
   "language": "python",
   "name": "python3"
  },
  "language_info": {
   "codemirror_mode": {
    "name": "ipython",
    "version": 3
   },
   "file_extension": ".py",
   "mimetype": "text/x-python",
   "name": "python",
   "nbconvert_exporter": "python",
   "pygments_lexer": "ipython3",
   "version": "3.10.10"
  }
 },
 "nbformat": 4,
 "nbformat_minor": 2
}
