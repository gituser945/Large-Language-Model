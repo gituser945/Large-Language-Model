{
 "cells": [
  {
   "cell_type": "markdown",
   "metadata": {},
   "source": [
    "### Prompt Engineering with chatGPT API"
   ]
  },
  {
   "cell_type": "code",
   "execution_count": 3,
   "metadata": {},
   "outputs": [],
   "source": [
    "import openai\n",
    "openai.api_key = \"Your - OPENAI_API_KEY\""
   ]
  },
  {
   "cell_type": "code",
   "execution_count": 4,
   "metadata": {},
   "outputs": [],
   "source": [
    "model = \"gpt-3.5-turbo\""
   ]
  },
  {
   "cell_type": "code",
   "execution_count": 5,
   "metadata": {},
   "outputs": [],
   "source": [
    "messages = [{'role':'user','content':'tell me a joke'}]\n",
    "response = openai.ChatCompletion.create(model='gpt-3.5-turbo',messages=messages)"
   ]
  },
  {
   "cell_type": "code",
   "execution_count": null,
   "metadata": {},
   "outputs": [],
   "source": [
    "print(response)"
   ]
  },
  {
   "cell_type": "code",
   "execution_count": 7,
   "metadata": {},
   "outputs": [
    {
     "name": "stdout",
     "output_type": "stream",
     "text": [
      "Why was the math book sad? Because it had too many problems.\n"
     ]
    }
   ],
   "source": [
    "print(response.choices[0].message[\"content\"])"
   ]
  },
  {
   "cell_type": "code",
   "execution_count": 14,
   "metadata": {},
   "outputs": [],
   "source": [
    "messages = [{'role':'user','content':'You are an assistance that speak like Shakespere.'},\n",
    "            {'role':'user','content':'tell me a joke'}]"
   ]
  },
  {
   "cell_type": "code",
   "execution_count": 15,
   "metadata": {},
   "outputs": [],
   "source": [
    "response = openai.ChatCompletion.create(model=model,messages=messages)"
   ]
  },
  {
   "cell_type": "code",
   "execution_count": 17,
   "metadata": {},
   "outputs": [
    {
     "name": "stdout",
     "output_type": "stream",
     "text": [
      "Why did the Shakespearean actor break up with his girlfriend?\n",
      "\n",
      "Because she was always saying, \"O Romeo, O Romeo, wherefore art thou, Romeo?\"\n"
     ]
    }
   ],
   "source": [
    "print(response.choices[0].message[\"content\"])"
   ]
  },
  {
   "cell_type": "code",
   "execution_count": 18,
   "metadata": {},
   "outputs": [],
   "source": [
    "def get_response(prompt,model = \"gpt-3.5-turbo\"):\n",
    "    messages = [{'role':'user','content':prompt}]\n",
    "    response = openai.ChatCompletion.create(\n",
    "        model = model,\n",
    "        messages = messages\n",
    "        )\n",
    "    return response.choices[0].message[\"content\"]"
   ]
  },
  {
   "cell_type": "code",
   "execution_count": 20,
   "metadata": {},
   "outputs": [
    {
     "name": "stdout",
     "output_type": "stream",
     "text": [
      "Decision trees are a popular machine learning algorithm that is used for both regression and classification tasks. They are widely used because they are easy to understand and interpret, making them a great choice for both beginners and experienced data scientists.\n",
      "\n",
      "A decision tree is a tree-like structure that is made up of nodes, branches, and leaves. The nodes in a decision tree represent decisions or conditions based on the input data, while the branches represent the possible outcomes of those decisions. The leaves of the tree represent the final outcomes or predictions.\n",
      "\n",
      "Here is an example of how a decision tree looks:\n",
      "\n",
      "```\n",
      "                                 Is Outlook Sunny?\n",
      "                                      /      \\\n",
      "                                  Yes         No\n",
      "                                 /              \\\n",
      "                          Is Humidity High?     Play Tennis\n",
      "                             /      \\\n",
      "                           Yes      No\n",
      "                           /          \\\n",
      "                       Don't Play     Play Tennis\n",
      "```\n",
      "\n",
      "In this example, the decision tree is used to predict whether to play tennis based on the weather conditions. The first decision is based on whether the outlook is sunny or not. If it is sunny, the next decision is based on the humidity level. If the humidity is high, then the final prediction is not to play tennis. If the humidity is not high, then the final prediction is to play tennis.\n",
      "\n",
      "Decision trees are powerful tools for making predictions and are widely used in various industries such as finance, healthcare, and marketing. They are also used in conjunction with other machine learning algorithms to improve the accuracy of the predictions.\n",
      "\n",
      "Overall, decision trees are a versatile and easy-to-understand algorithm that is perfect for beginners and experts alike. Whether you are looking to build a simple model or a more complex one, decision trees can help you make sense of your data and make accurate predictions.\n"
     ]
    }
   ],
   "source": [
    "prompt = \"Give me blog post about Decision Tree,please include how decision tree looks\"\n",
    "print(get_response(prompt))"
   ]
  },
  {
   "cell_type": "code",
   "execution_count": 21,
   "metadata": {},
   "outputs": [
    {
     "name": "stdout",
     "output_type": "stream",
     "text": [
      "Are you just starting your career in data science and feeling overwhelmed by all the tools and techniques out there? One of the most commonly used and easy-to-understand methods in data science is the decision tree. Decision trees are a powerful tool for making predictions based on data and are a great starting point for beginners to learn about the field.\n",
      "\n",
      "What is a decision tree?\n",
      "\n",
      "A decision tree is a tree-like model that represents decisions and their possible consequences. It uses a tree structure to model decisions and their possible outcomes. Each internal node represents a decision or test on a specific feature, and each branch represents the outcome of that test. The leaf nodes represent the final outcomes or predictions.\n",
      "\n",
      "How does a decision tree work?\n",
      "\n",
      "Decision trees work by dividing the data into smaller and smaller subsets based on certain criteria. These criteria are usually chosen based on how well they separate the data into distinct categories. The goal is to create a tree that best predicts the target variable by splitting the data into homogenous groups.\n",
      "\n",
      "For example, let’s say we have a dataset of customer information, and we want to predict whether a customer will purchase a product or not. A decision tree can be used to split the data based on variables such as age, gender, income level, and past purchase history. By recursively partitioning the data based on these variables, the decision tree can predict the likelihood of a customer making a purchase.\n",
      "\n",
      "Advantages of decision trees\n",
      "\n",
      "Decision trees have several advantages that make them a popular choice in data science:\n",
      "\n",
      "1. Easy to understand and interpret: Decision trees are intuitive and easy to interpret, making them a great tool for beginners to learn about machine learning.\n",
      "\n",
      "2. Require minimal data preprocessing: Decision trees can handle both numerical and categorical data without the need for extensive data preprocessing.\n",
      "\n",
      "3. Can handle non-linear relationships: Decision trees can capture complex non-linear relationships in the data without the need for complex mathematical equations.\n",
      "\n",
      "4. Can handle missing values: Decision trees can handle missing values in the data without the need for imputation techniques.\n",
      "\n",
      "Conclusion\n",
      "\n",
      "Decision trees are a powerful tool for making predictions based on data and are a great starting point for beginners in data science. They are intuitive, easy to interpret, and can handle a wide range of data types and complexities. By learning how to use decision trees, you can gain valuable insights into your data and make informed decisions. So, if you are just starting your career in data science, be sure to explore the world of decision trees and see how they can help you in your data analysis journey.\n"
     ]
    }
   ],
   "source": [
    "prompt = \"Write a blog post on decision tree for beginner level audience who are starting their career in Data science.Limit the post to 500 words\"\n",
    "print(get_response(prompt))"
   ]
  },
  {
   "cell_type": "code",
   "execution_count": 31,
   "metadata": {},
   "outputs": [],
   "source": [
    "prompt = '''Write a SEO friendly blog post on decision tree for begineer level audience starting their career in data science.\n",
    "The blog must include the introduction,\n",
    "learning objective,\n",
    "table of contents,\n",
    "working of decision tree algorithm\n",
    "and conculision,\n",
    "Limit the no. of words 500'''"
   ]
  },
  {
   "cell_type": "code",
   "execution_count": 32,
   "metadata": {},
   "outputs": [
    {
     "name": "stdout",
     "output_type": "stream",
     "text": [
      "Introduction:\n",
      "\n",
      "Are you a beginner in the field of data science and looking to learn about decision trees? Decision trees are a popular algorithm in machine learning that is easy to understand and implement. In this blog post, we will explore the basics of decision trees and how they work, to help you kickstart your career in data science.\n",
      "\n",
      "Learning objective:\n",
      "\n",
      "By the end of this blog post, you will have a clear understanding of how decision trees work and how they can be used in data science.\n",
      "\n",
      "Table of contents:\n",
      "\n",
      "1. What is a decision tree?\n",
      "2. How does a decision tree work?\n",
      "3. Advantages of using decision trees\n",
      "4. Disadvantages of using decision trees\n",
      "5. Conclusion\n",
      "\n",
      "Working of decision tree algorithm:\n",
      "\n",
      "A decision tree is a tree-like model where each internal node represents a feature (or attribute), each branch represents a decision rule, and each leaf node represents the outcome. \n",
      "\n",
      "The decision tree algorithm starts with the root node, which contains the entire dataset. It then splits the dataset into smaller subsets based on the feature that provides the best split. This process continues recursively until all instances in a subset belong to the same class, or the maximum depth of the tree is reached.\n",
      "\n",
      "Decision trees are popular in data science because they are easy to interpret and can handle both numerical and categorical data. They can also handle missing values and outliers without the need for extensive data preprocessing.\n",
      "\n",
      "Advantages of using decision trees:\n",
      "\n",
      "1. Easy to understand and interpret\n",
      "2. Can handle both numerical and categorical data\n",
      "3. Can handle missing values and outliers\n",
      "4. Non-parametric model, meaning no assumptions about data distribution\n",
      "5. Can be used for both classification and regression tasks\n",
      "\n",
      "Disadvantages of using decision trees:\n",
      "\n",
      "1. Prone to overfitting, especially with deep trees\n",
      "2. Can be sensitive to small variations in the data\n",
      "3. May not perform well on imbalanced datasets\n",
      "\n",
      "Conclusion:\n",
      "\n",
      "In conclusion, decision trees are a powerful algorithm in machine learning that is easy to understand and implement. They are a great starting point for beginners in data science, as they provide a solid foundation for understanding more complex algorithms. By mastering decision trees, you will be well on your way to becoming a successful data scientist.\n"
     ]
    }
   ],
   "source": [
    "print(get_response(prompt=prompt))"
   ]
  },
  {
   "cell_type": "code",
   "execution_count": 33,
   "metadata": {},
   "outputs": [
    {
     "name": "stdout",
     "output_type": "stream",
     "text": [
      "1. What are some popular summer activities to do with your children?\n",
      "- Some popular summer activities to do with your children include going to the beach, visiting amusement parks, having a picnic in the park, and going on nature hikes.\n",
      "\n",
      "2. How can parents prevent summer learning loss in children?\n",
      "- Parents can prevent summer learning loss in children by encouraging reading, setting aside time for educational activities, and enrolling their children in summer programs or camps.\n",
      "\n",
      "3. What are some healthy snack options for kids in the summer?\n",
      "- Some healthy snack options for kids in the summer include fresh fruit, yogurt parfait, veggie sticks with hummus, and frozen grapes or banana pops.\n",
      "\n",
      "4. How can parents keep their kids safe in the sun?\n",
      "- Parents can keep their kids safe in the sun by applying sunscreen regularly, providing protective clothing and hats, and ensuring they stay hydrated.\n",
      "\n",
      "5. What are some budget-friendly summer vacation ideas for families?\n",
      "- Some budget-friendly summer vacation ideas for families include camping trips, staycations, visiting local attractions, and exploring nearby cities or towns.\n",
      "\n",
      "6. How can parents encourage their children to be active during the summer?\n",
      "- Parents can encourage their children to be active during the summer by organizing family outdoor activities, signing them up for sports camps or classes, and limiting screen time.\n",
      "\n",
      "7. What are some fun and educational DIY projects for kids in the summer?\n",
      "- Some fun and educational DIY projects for kids in the summer include creating a backyard garden, building a birdhouse, making homemade ice cream, and conducting science experiments.\n",
      "\n",
      "8. How can parents create a summer routine for their children?\n",
      "- Parents can create a summer routine for their children by setting regular meal times, scheduling daily activities, and establishing limits on screen time.\n",
      "\n",
      "9. What are some ways to beat the heat and stay cool in the summer?\n",
      "- Some ways to beat the heat and stay cool in the summer include going swimming, staying indoors during the hottest hours of the day, using a fan or air conditioning, and drinking plenty of water.\n",
      "\n",
      "10. How can parents help their children make the most of their summer break?\n",
      "- Parents can help their children make the most of their summer break by encouraging them to try new activities, planning fun outings and adventures, and creating a balance between relaxation and enrichment.\n"
     ]
    }
   ],
   "source": [
    "prompt = \"Include 10 FAQ's for the above blog post with the answers\"\n",
    "print(get_response(prompt=prompt))"
   ]
  },
  {
   "cell_type": "markdown",
   "metadata": {},
   "source": [
    "### Enabling Conversation with chatGPT API"
   ]
  },
  {
   "cell_type": "code",
   "execution_count": 26,
   "metadata": {},
   "outputs": [],
   "source": [
    "first_prompt = '''Write a SEO friendly blog post on decision tree for begineer level audience starting their career in data science.\n",
    "The blog must include the introduction,\n",
    "learning objective,\n",
    "table of contents,\n",
    "working of decision tree algorithm\n",
    "and conculision,\n",
    "Limit the no. of words 500'''"
   ]
  },
  {
   "cell_type": "code",
   "execution_count": 27,
   "metadata": {},
   "outputs": [],
   "source": [
    "first_prompt_output = '''ArithmeticErrorIntroduction:\n",
    "Decision trees are popular tools in the field of data science for making predictions based on input data. They are easy to understand and interpret, making them ideal for beginners just starting their career in data science. In this blog post, we will explore the working of the decision tree algorithm, which is a fundamental concept in the field of machine learning.\n",
    "\n",
    "Learning Objective:\n",
    "By reading this blog post, beginners will gain a basic understanding of how decision trees work and how they can be used to make predictions based on data.\n",
    "\n",
    "Table of Contents:\n",
    "1. Introduction\n",
    "2. What is a Decision Tree?\n",
    "3. How Does a Decision Tree Work?\n",
    "4. Advantages of Decision Trees\n",
    "5. Limitations of Decision Trees\n",
    "6. Conclusion\n",
    "\n",
    "Working of Decision Tree Algorithm:\n",
    "A decision tree is a flowchart-like structure in which each internal node represents a \"test\" on an attribute, each branch represents the outcome of the test, and each leaf node represents a class label or a decision. The topmost node in a decision tree is known as the root node. \n",
    "\n",
    "The decision tree algorithm works by recursively splitting the data into subsets based on the features available. At each step, the algorithm selects the best feature to split the data based on criteria such as entropy or information gain. This process continues until a stopping criterion is met, such as reaching a maximum depth or having all data points in a leaf node belong to the same class.\n",
    "\n",
    "Decision trees are popular in the field of data science because of their simplicity and interpretability. They can handle both numerical and categorical data and are resistant to overfitting. Additionally, decision trees can easily handle missing values in the data.\n",
    "\n",
    "Conclusion:\n",
    "In conclusion, decision trees are a powerful tool in the field of data science for making predictions based on input data. Beginners in data science can benefit from understanding the working of the decision tree algorithm and how it can be used to solve real-world problems. By mastering decision trees, beginners can gain valuable skills that will help them succeed in their data science career.'''"
   ]
  },
  {
   "cell_type": "code",
   "execution_count": 28,
   "metadata": {},
   "outputs": [],
   "source": [
    "second_prompt = \"Include 10 FAQ's for the above blog post with the answers\""
   ]
  },
  {
   "cell_type": "code",
   "execution_count": 29,
   "metadata": {},
   "outputs": [],
   "source": [
    "messages = [{'role':'user','content':first_prompt},\n",
    "            {'role':'assistant','content':first_prompt_output},\n",
    "            {'role':'user','content':second_prompt}]"
   ]
  },
  {
   "cell_type": "code",
   "execution_count": 30,
   "metadata": {},
   "outputs": [
    {
     "name": "stdout",
     "output_type": "stream",
     "text": [
      "1. What is a decision tree used for?\n",
      "Answer: A decision tree is used for making predictions based on input data by recursively splitting the data into subsets based on the available features.\n",
      "\n",
      "2. How does a decision tree work?\n",
      "Answer: A decision tree algorithm works by selecting the best feature to split the data at each step based on criteria such as entropy or information gain, until a stopping criterion is met.\n",
      "\n",
      "3. What is the root node in a decision tree?\n",
      "Answer: The topmost node in a decision tree is known as the root node, from which the tree branches out based on the selected features and their outcomes.\n",
      "\n",
      "4. How are decision trees useful for beginners in data science?\n",
      "Answer: Decision trees are easy to understand and interpret, making them ideal for beginners starting their career in data science to learn the fundamentals of machine learning.\n",
      "\n",
      "5. Can decision trees handle both numerical and categorical data?\n",
      "Answer: Yes, decision trees can handle both numerical and categorical data, making them versatile for different types of datasets.\n",
      "\n",
      "6. What is the stopping criterion for a decision tree algorithm?\n",
      "Answer: The stopping criterion for a decision tree algorithm can be reaching a maximum depth, having all data points in a leaf node belong to the same class, or other predefined conditions.\n",
      "\n",
      "7. How do decision trees handle missing values in the data?\n",
      "Answer: Decision trees can easily handle missing values in the data by considering them during the splitting process and selecting the best feature to replace or impute the missing values.\n",
      "\n",
      "8. What are the advantages of decision trees?\n",
      "Answer: Some advantages of decision trees include simplicity, interpretability, handling both numerical and categorical data, resistance to overfitting, and ease of handling missing values.\n",
      "\n",
      "9. What are the limitations of decision trees?\n",
      "Answer: Some limitations of decision trees include being prone to high variance, sensitive to small changes in the data, and not suitable for capturing complex relationships in the data.\n",
      "\n",
      "10. How can beginners in data science benefit from understanding decision trees?\n",
      "Answer: By mastering decision trees, beginners can gain valuable skills in making predictions based on data, which will help them succeed in their data science career and solve real-world problems efficiently.\n"
     ]
    }
   ],
   "source": [
    "response = openai.ChatCompletion.create(\n",
    "    model = 'gpt-3.5-turbo',\n",
    "    messages = messages\n",
    ")\n",
    "second_prompt_output = response.choices[0].message['content']\n",
    "print(second_prompt_output)"
   ]
  },
  {
   "cell_type": "code",
   "execution_count": 34,
   "metadata": {},
   "outputs": [],
   "source": [
    "second_prompt_output = '''1. What is a decision tree used for?\n",
    "Answer: A decision tree is used for making predictions based on input data by recursively splitting the data into subsets based on the available features.\n",
    "\n",
    "2. How does a decision tree work?\n",
    "Answer: A decision tree algorithm works by selecting the best feature to split the data at each step based on criteria such as entropy or information gain, until a stopping criterion is met.\n",
    "\n",
    "3. What is the root node in a decision tree?\n",
    "Answer: The topmost node in a decision tree is known as the root node, from which the tree branches out based on the selected features and their outcomes.\n",
    "\n",
    "4. How are decision trees useful for beginners in data science?\n",
    "Answer: Decision trees are easy to understand and interpret, making them ideal for beginners starting their career in data science to learn the fundamentals of machine learning.\n",
    "\n",
    "5. Can decision trees handle both numerical and categorical data?\n",
    "Answer: Yes, decision trees can handle both numerical and categorical data, making them versatile for different types of datasets.\n",
    "\n",
    "6. What is the stopping criterion for a decision tree algorithm?\n",
    "Answer: The stopping criterion for a decision tree algorithm can be reaching a maximum depth, having all data points in a leaf node belong to the same class, or other predefined conditions.\n",
    "\n",
    "7. How do decision trees handle missing values in the data?\n",
    "Answer: Decision trees can easily handle missing values in the data by considering them during the splitting process and selecting the best feature to replace or impute the missing values.\n",
    "\n",
    "8. What are the advantages of decision trees?\n",
    "Answer: Some advantages of decision trees include simplicity, interpretability, handling both numerical and categorical data, resistance to overfitting, and ease of handling missing values.\n",
    "\n",
    "9. What are the limitations of decision trees?\n",
    "Answer: Some limitations of decision trees include being prone to high variance, sensitive to small changes in the data, and not suitable for capturing complex relationships in the data.\n",
    "\n",
    "10. How can beginners in data science benefit from understanding decision trees?\n",
    "Answer: By mastering decision trees, beginners can gain valuable skills in making predictions based on data, which will help them succeed in their data science career and solve real-world problems efficiently.'''"
   ]
  },
  {
   "cell_type": "code",
   "execution_count": 38,
   "metadata": {},
   "outputs": [],
   "source": [
    "third_prompt = \"Add an example to the above blog post\""
   ]
  },
  {
   "cell_type": "code",
   "execution_count": 39,
   "metadata": {},
   "outputs": [],
   "source": [
    "messages = [{'role':'user','content':first_prompt},\n",
    "            {'role':'assistant','content':first_prompt_output},\n",
    "            {'role':'user','content':second_prompt},\n",
    "            {'role':'assistant','content':second_prompt_output},\n",
    "            {'role':'user','content':third_prompt}]"
   ]
  },
  {
   "cell_type": "code",
   "execution_count": 40,
   "metadata": {},
   "outputs": [
    {
     "name": "stdout",
     "output_type": "stream",
     "text": [
      "Introduction:\n",
      "Decision trees are popular tools in the field of data science for making predictions based on input data. They are easy to understand and interpret, making them ideal for beginners just starting their career in data science. In this blog post, we will explore the working of the decision tree algorithm, which is a fundamental concept in the field of machine learning.\n",
      "\n",
      "Learning Objective:\n",
      "By reading this blog post, beginners will gain a basic understanding of how decision trees work and how they can be used to make predictions based on data.\n",
      "\n",
      "Table of Contents:\n",
      "1. Introduction\n",
      "2. What is a Decision Tree?\n",
      "3. How Does a Decision Tree Work?\n",
      "4. Advantages of Decision Trees\n",
      "5. Limitations of Decision Trees\n",
      "6. Example of Decision Tree Algorithm\n",
      "7. Conclusion\n",
      "\n",
      "Working of Decision Tree Algorithm:\n",
      "A decision tree is a flowchart-like structure in which each internal node represents a \"test\" on an attribute, each branch represents the outcome of the test, and each leaf node represents a class label or a decision. The topmost node in a decision tree is known as the root node. \n",
      "\n",
      "The decision tree algorithm works by recursively splitting the data into subsets based on the features available. At each step, the algorithm selects the best feature to split the data based on criteria such as entropy or information gain. This process continues until a stopping criterion is met, such as reaching a maximum depth or having all data points in a leaf node belong to the same class.\n",
      "\n",
      "Example of Decision Tree Algorithm:\n",
      "Let's consider an example of a decision tree predicting whether a customer will churn or not based on their demographic and behavioral data. The features include age, gender, location, number of purchases, and frequency of visits.\n",
      "\n",
      "1. The algorithm starts at the root node and chooses the best feature (e.g., age) to split the data into two subsets based on a threshold value (e.g., age < 30).\n",
      "\n",
      "2. The data is then split into two branches representing customers younger than 30 and customers older than 30.\n",
      "\n",
      "3. At each subsequent node, the algorithm selects the best feature to further split the data based on criteria such as information gain or Gini impurity.\n",
      "\n",
      "4. The process continues until a stopping criterion is met, resulting in leaf nodes with predicted class labels (e.g., churn or not churn).\n",
      "\n",
      "Conclusion:\n",
      "In conclusion, decision trees are a powerful tool in the field of data science for making predictions based on input data. Beginners in data science can benefit from understanding the working of the decision tree algorithm and how it can be used to solve real-world problems. By mastering decision trees, beginners can gain valuable skills that will help them succeed in their data science career.\n"
     ]
    }
   ],
   "source": [
    "response = openai.ChatCompletion.create(\n",
    "    model = 'gpt-3.5-turbo',\n",
    "    messages = messages\n",
    ")\n",
    "third_prompt_output = response.choices[0].message['content']\n",
    "print(third_prompt_output)"
   ]
  },
  {
   "cell_type": "markdown",
   "metadata": {},
   "source": [
    "### Define chat function"
   ]
  },
  {
   "cell_type": "code",
   "execution_count": 41,
   "metadata": {},
   "outputs": [],
   "source": [
    "history = []\n",
    "\n",
    "def chat(user_prompt,is_clear=False):\n",
    "\n",
    "    global history\n",
    "    if is_clear:\n",
    "        history=[]\n",
    "\n",
    "    input_message = {'role':'user','content':user_prompt}\n",
    "    history.append(input_message)\n",
    "\n",
    "    response = openai.ChatCompletion.create(\n",
    "        model = 'gpt-3.5-turbo',\n",
    "        messages = history\n",
    "    )\n",
    "\n",
    "    response = response.choices[0].message['content']\n",
    "    response_message = {'role':'assistant','content':response}\n",
    "    history.append(response_message)\n",
    "    return response"
   ]
  },
  {
   "cell_type": "code",
   "execution_count": 42,
   "metadata": {},
   "outputs": [
    {
     "name": "stdout",
     "output_type": "stream",
     "text": [
      "Welcome to our Data Science community! We are thrilled to have you join us in this exciting and ever-evolving field. Whether you are a seasoned data scientist or just starting out, this is the perfect place to connect with like-minded individuals, share knowledge, and collaborate on projects. We look forward to seeing all the amazing insights and discoveries you will bring to our community. Let's explore the world of data science together!\n"
     ]
    }
   ],
   "source": [
    "user_prompt = \"Write a welcome message for Data science community members\"\n",
    "print(chat(user_prompt=user_prompt))"
   ]
  },
  {
   "cell_type": "code",
   "execution_count": 43,
   "metadata": {},
   "outputs": [
    {
     "name": "stdout",
     "output_type": "stream",
     "text": [
      "Dear community member,\n",
      "\n",
      "I wanted to highlight the importance of daily learning in the field of Data Science. In an ever-evolving and fast-paced field like Data Science, it is crucial to stay updated with the latest trends, tools, and techniques. Daily learning not only helps you stay relevant in the industry but also sharpens your skills and knowledge.\n",
      "\n",
      "By dedicating a portion of your day to learning something new in data science, whether it's through online courses, reading articles, attending webinars, or working on personal projects, you are investing in your career growth and development. Continuous learning will not only improve your expertise but also open up new opportunities for you in the field.\n",
      "\n",
      "So, make a commitment to daily learning in Data Science and watch how it propels your career to new heights. Remember, growth comes from constantly pushing yourself to learn and improve. \n",
      "\n",
      "Keep learning and keep growing! \n",
      "\n",
      "Best regards,\n",
      "\n",
      "[Your Name]\n"
     ]
    }
   ],
   "source": [
    "user_prompt = \"write a message to the community member telling the importance of daily learning in Data science\"\n",
    "print(chat(user_prompt,True))"
   ]
  },
  {
   "cell_type": "code",
   "execution_count": 46,
   "metadata": {},
   "outputs": [
    {
     "data": {
      "text/plain": [
       "[{'role': 'user',\n",
       "  'content': 'write a message to the community member telling the importance of daily learning in Data science'},\n",
       " {'role': 'assistant',\n",
       "  'content': \"Dear community member,\\n\\nI wanted to highlight the importance of daily learning in the field of Data Science. In an ever-evolving and fast-paced field like Data Science, it is crucial to stay updated with the latest trends, tools, and techniques. Daily learning not only helps you stay relevant in the industry but also sharpens your skills and knowledge.\\n\\nBy dedicating a portion of your day to learning something new in data science, whether it's through online courses, reading articles, attending webinars, or working on personal projects, you are investing in your career growth and development. Continuous learning will not only improve your expertise but also open up new opportunities for you in the field.\\n\\nSo, make a commitment to daily learning in Data Science and watch how it propels your career to new heights. Remember, growth comes from constantly pushing yourself to learn and improve. \\n\\nKeep learning and keep growing! \\n\\nBest regards,\\n\\n[Your Name]\"}]"
      ]
     },
     "execution_count": 46,
     "metadata": {},
     "output_type": "execute_result"
    }
   ],
   "source": [
    "history"
   ]
  }
 ],
 "metadata": {
  "kernelspec": {
   "display_name": "Python 3",
   "language": "python",
   "name": "python3"
  },
  "language_info": {
   "codemirror_mode": {
    "name": "ipython",
    "version": 3
   },
   "file_extension": ".py",
   "mimetype": "text/x-python",
   "name": "python",
   "nbconvert_exporter": "python",
   "pygments_lexer": "ipython3",
   "version": "3.10.10"
  }
 },
 "nbformat": 4,
 "nbformat_minor": 2
}
