{
 "cells": [
  {
   "cell_type": "markdown",
   "metadata": {},
   "source": [
    "#### RAG System"
   ]
  },
  {
   "cell_type": "code",
   "execution_count": 5,
   "metadata": {},
   "outputs": [],
   "source": [
    "%%capture\n",
    "pip install llama-index"
   ]
  },
  {
   "cell_type": "code",
   "execution_count": 6,
   "metadata": {},
   "outputs": [],
   "source": [
    "import os\n",
    "from dotenv import load_dotenv,find_dotenv\n",
    "load_dotenv(r\"/Users/nikhil/Desktop/GenAI/Hands-on-practice/RAG-using-llamaIndex/.env\")\n",
    "OPENAI_API_KEY = os.environ[\"OPENAI_API_KEY\"]"
   ]
  },
  {
   "cell_type": "markdown",
   "metadata": {},
   "source": [
    "### Stage 1 : Data Ingestion<br>\n",
    "#### Data Loader"
   ]
  },
  {
   "cell_type": "code",
   "execution_count": 11,
   "metadata": {},
   "outputs": [
    {
     "ename": "AttributeError",
     "evalue": "'SimpleDirectoryReader' object has no attribute 'data_load'",
     "output_type": "error",
     "traceback": [
      "\u001b[0;31m---------------------------------------------------------------------------\u001b[0m",
      "\u001b[0;31mAttributeError\u001b[0m                            Traceback (most recent call last)",
      "\u001b[1;32m/Users/nikhil/Desktop/GenAI/Hands-on-practice/RAG-using-llamaIndex/rag using llamaindex.ipynb Cell 5\u001b[0m line \u001b[0;36m2\n\u001b[1;32m      <a href='vscode-notebook-cell:/Users/nikhil/Desktop/GenAI/Hands-on-practice/RAG-using-llamaIndex/rag%20using%20llamaindex.ipynb#W5sZmlsZQ%3D%3D?line=0'>1</a>\u001b[0m \u001b[39mfrom\u001b[39;00m \u001b[39mllama_index\u001b[39;00m\u001b[39m.\u001b[39;00m\u001b[39mcore\u001b[39;00m \u001b[39mimport\u001b[39;00m SimpleDirectoryReader\n\u001b[0;32m----> <a href='vscode-notebook-cell:/Users/nikhil/Desktop/GenAI/Hands-on-practice/RAG-using-llamaIndex/rag%20using%20llamaindex.ipynb#W5sZmlsZQ%3D%3D?line=1'>2</a>\u001b[0m documents \u001b[39m=\u001b[39m SimpleDirectoryReader(input_files\u001b[39m=\u001b[39;49m[\u001b[39m'\u001b[39;49m\u001b[39m/Users/nikhil/Desktop/GenAI/Hands-on-practice/RAG-using-llamaIndex/transformers.pdf\u001b[39;49m\u001b[39m'\u001b[39;49m],recursive\u001b[39m=\u001b[39;49m\u001b[39mTrue\u001b[39;49;00m)\u001b[39m.\u001b[39;49mdata_load\n",
      "\u001b[0;31mAttributeError\u001b[0m: 'SimpleDirectoryReader' object has no attribute 'data_load'"
     ]
    }
   ],
   "source": [
    "from llama_index.core import SimpleDirectoryReader\n",
    "documents = SimpleDirectoryReader(input_files=['/Users/nikhil/Desktop/GenAI/Hands-on-practice/RAG-using-llamaIndex/transformers.pdf']).data_load()"
   ]
  },
  {
   "cell_type": "code",
   "execution_count": null,
   "metadata": {},
   "outputs": [],
   "source": []
  }
 ],
 "metadata": {
  "kernelspec": {
   "display_name": "Python 3",
   "language": "python",
   "name": "python3"
  },
  "language_info": {
   "codemirror_mode": {
    "name": "ipython",
    "version": 3
   },
   "file_extension": ".py",
   "mimetype": "text/x-python",
   "name": "python",
   "nbconvert_exporter": "python",
   "pygments_lexer": "ipython3",
   "version": "3.10.10"
  }
 },
 "nbformat": 4,
 "nbformat_minor": 2
}
