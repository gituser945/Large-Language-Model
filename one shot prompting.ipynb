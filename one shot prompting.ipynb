{
 "cells": [
  {
   "cell_type": "code",
   "execution_count": 2,
   "metadata": {},
   "outputs": [],
   "source": [
    "import openai\n",
    "openai.api_key = \"YOUR OPENAI_API_KEY\""
   ]
  },
  {
   "cell_type": "code",
   "execution_count": 3,
   "metadata": {},
   "outputs": [],
   "source": [
    "def get_response(messages,model=\"gpt-3.5-turbo\"):\n",
    "    response = openai.ChatCompletion.create(\n",
    "        model = model,\n",
    "        messages = messages\n",
    "    )\n",
    "\n",
    "    return response.choices[0].message['content']"
   ]
  },
  {
   "cell_type": "code",
   "execution_count": 4,
   "metadata": {},
   "outputs": [],
   "source": [
    "first_question= '''Following endaerectomy on the right common carotid, a patient is found to be blind in the right eye.\n",
    "It is appears that a small thrombus embolized during surgery and lodged in the aery supplying the optic nerve.\n",
    "Which aery would be blocked?\n",
    "(A)Central aery of the retina\n",
    "(B)Infraorbital aery\n",
    "(C)Lacrimal aery\n",
    "(D)Nasociliary aretry\n",
    "'''\n",
    "\n",
    "first_question_answer= 'A'"
   ]
  },
  {
   "cell_type": "code",
   "execution_count": 6,
   "metadata": {},
   "outputs": [],
   "source": [
    "new_question = '''\n",
    "Middle aged female with mass in sella turcica hormone increased is -\n",
    "(A)Prolactin\n",
    "(B)Thyroxine\n",
    "(C)Extrogen\n",
    "(D)ADH\n",
    "'''"
   ]
  },
  {
   "cell_type": "markdown",
   "metadata": {},
   "source": [
    "#### One Shot Prompting"
   ]
  },
  {
   "cell_type": "code",
   "execution_count": 7,
   "metadata": {},
   "outputs": [],
   "source": [
    "system_role = \"You are a helpful assistant that answer multiple choice on medical knowledge\""
   ]
  },
  {
   "cell_type": "code",
   "execution_count": 8,
   "metadata": {},
   "outputs": [],
   "source": [
    "user_prompt = f'''\n",
    "Question:{first_question}\n",
    "Answer:{first_question_answer}\n",
    "\n",
    "Question:{new_question}\n",
    "Answer:\n",
    "\n",
    "'''"
   ]
  },
  {
   "cell_type": "code",
   "execution_count": 9,
   "metadata": {},
   "outputs": [],
   "source": [
    "messages = [{'role':'system','content':system_role},\n",
    "            {'role':'user','content':user_prompt}]"
   ]
  },
  {
   "cell_type": "code",
   "execution_count": 10,
   "metadata": {},
   "outputs": [
    {
     "name": "stdout",
     "output_type": "stream",
     "text": [
      "Answer: A (Prolactin)\n"
     ]
    }
   ],
   "source": [
    "print(get_response(messages))"
   ]
  }
 ],
 "metadata": {
  "kernelspec": {
   "display_name": "Python 3",
   "language": "python",
   "name": "python3"
  },
  "language_info": {
   "codemirror_mode": {
    "name": "ipython",
    "version": 3
   },
   "file_extension": ".py",
   "mimetype": "text/x-python",
   "name": "python",
   "nbconvert_exporter": "python",
   "pygments_lexer": "ipython3",
   "version": "3.10.10"
  }
 },
 "nbformat": 4,
 "nbformat_minor": 2
}
