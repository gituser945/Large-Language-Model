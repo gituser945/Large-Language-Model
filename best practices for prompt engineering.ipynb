{
 "cells": [
  {
   "cell_type": "markdown",
   "metadata": {},
   "source": [
    "### Guidelines and Best Practices for Prompt Engineering"
   ]
  },
  {
   "cell_type": "code",
   "execution_count": 2,
   "metadata": {},
   "outputs": [],
   "source": [
    "import openai\n",
    "openai.api_key = [\"OPENAI_API_KEY\"]"
   ]
  },
  {
   "cell_type": "code",
   "execution_count": 11,
   "metadata": {},
   "outputs": [],
   "source": [
    "def get_response(prompt,temperature = 0,model = \"gpt-3.5-turbo\"):\n",
    "    messages = [{'role':'user','content':prompt}]\n",
    "    response = openai.ChatCompletion.create(\n",
    "        messages = messages,\n",
    "        model = model,\n",
    "        temperature = temperature\n",
    "    )\n",
    "    return response.choices[0].message['content']"
   ]
  },
  {
   "cell_type": "markdown",
   "metadata": {},
   "source": [
    "### Case Study : Categorization of Tickets in Customer Support"
   ]
  },
  {
   "cell_type": "code",
   "execution_count": 12,
   "metadata": {},
   "outputs": [],
   "source": [
    "first_customer_support_ticket= '''Dear Support Team,\n",
    "\n",
    "I hope this message finds you well.\n",
    "I'm experiencing difficulties accessing my account on your platform.\n",
    "When I attempt to log in, I receive an error message stating, \"Invalid Credentials.\"\n",
    "I've double-checked my username and password, and they are correct.\n",
    "\n",
    "Details:\n",
    "- Username: johndoe123\n",
    "- Browser: Google Chrome\n",
    "- Operating System: Windows 10\n",
    "\n",
    "I have tried clearing my browser cache and resetting my password, but the issue persists.\n",
    "This is affecting my ability to use your services, and I would appreciate a prompt resolution.\n",
    "\n",
    "Please let me know if you require any additional information to assist with troubleshooting.\n",
    "\n",
    "Thank you,\n",
    "John Doe\n",
    "'''"
   ]
  },
  {
   "cell_type": "code",
   "execution_count": 13,
   "metadata": {},
   "outputs": [],
   "source": [
    "second_customer_support_ticket= '''\n",
    "Dear Support Team,\n",
    "\n",
    "I hope this message finds you well. I am writing to report a technical issue I have encountered while using your platform. Specifically, I am unable to access Feature XYZ.\n",
    "\n",
    "Issue Details:\n",
    "\n",
    "Feature Affected: XYZ\n",
    "Description of the Issue: When I attempt to use Feature XYZ, [describe the specific problem or error message you are encountering]. The issue has been persistent for [mention the duration or frequency of the problem].\n",
    "Steps Taken to Resolve: I have tried [list any troubleshooting steps you've already taken, if applicable, such as clearing cache, restarting the device, etc.]. However, the problem persists.\n",
    "Additional Information:\n",
    "\n",
    "Browser/Device: I am using [mention the browser and device you are using].\n",
    "Screenshots: [Attach any relevant screenshots if possible, to provide visual context].\n",
    "This feature is crucial for my [mention the specific purpose or task], and I appreciate your prompt attention to this matter. Please let me know if there are any additional details needed from my end to assist in resolving this issue.\n",
    "\n",
    "Thank you for your assistance.\n",
    "\n",
    "Best regards,\n",
    "[Your Name]\n",
    "[Your Contact Information]\n",
    "'''"
   ]
  },
  {
   "cell_type": "code",
   "execution_count": 14,
   "metadata": {},
   "outputs": [
    {
     "name": "stdout",
     "output_type": "stream",
     "text": [
      "Classify the customer support ticket:Dear Support Team,\n",
      "\n",
      "I hope this message finds you well.\n",
      "I'm experiencing difficulties accessing my account on your platform.\n",
      "When I attempt to log in, I receive an error message stating, \"Invalid Credentials.\"\n",
      "I've double-checked my username and password, and they are correct.\n",
      "\n",
      "Details:\n",
      "- Username: johndoe123\n",
      "- Browser: Google Chrome\n",
      "- Operating System: Windows 10\n",
      "\n",
      "I have tried clearing my browser cache and resetting my password, but the issue persists.\n",
      "This is affecting my ability to use your services, and I would appreciate a prompt resolution.\n",
      "\n",
      "Please let me know if you require any additional information to assist with troubleshooting.\n",
      "\n",
      "Thank you,\n",
      "John Doe\n",
      "\n"
     ]
    }
   ],
   "source": [
    "user_prompt = f\"Classify the customer support ticket:{first_customer_support_ticket}\"\n",
    "print(user_prompt)"
   ]
  },
  {
   "cell_type": "code",
   "execution_count": 15,
   "metadata": {},
   "outputs": [
    {
     "name": "stdout",
     "output_type": "stream",
     "text": [
      "Technical Issue - Login Error\n"
     ]
    }
   ],
   "source": [
    "print(get_response(user_prompt))"
   ]
  },
  {
   "cell_type": "code",
   "execution_count": 16,
   "metadata": {},
   "outputs": [
    {
     "name": "stdout",
     "output_type": "stream",
     "text": [
      "This customer support ticket can be classified as a technical issue related to the inability to access a specific feature (Feature XYZ) on the platform. The customer has provided detailed information about the issue, steps taken to resolve it, additional information about the browser/device being used, and has requested prompt attention to the matter.\n"
     ]
    }
   ],
   "source": [
    "user_prompt = f\"Classify the customer suppoert ticket:{second_customer_support_ticket}\"\n",
    "print(get_response(user_prompt))"
   ]
  },
  {
   "cell_type": "code",
   "execution_count": 18,
   "metadata": {},
   "outputs": [
    {
     "name": "stdout",
     "output_type": "stream",
     "text": [
      "Technical Issues\n"
     ]
    }
   ],
   "source": [
    "user_prompt = '''Classify the customer ticket into higher level category such as\n",
    "Technical Issues,Billing Issues or Product feedback.\n",
    "{first_customer_suppoert_ticket}'''\n",
    "print(get_response(user_prompt))"
   ]
  },
  {
   "cell_type": "code",
   "execution_count": 20,
   "metadata": {},
   "outputs": [
    {
     "name": "stdout",
     "output_type": "stream",
     "text": [
      "Technical Issues\n"
     ]
    }
   ],
   "source": [
    "user_prompt = '''Classify the customer ticket into higher level category such as\n",
    "Technical Issues,Billing Issues or Product feedback.\n",
    "{Second_customer_support_ticket}'''\n",
    "print(get_response(user_prompt))"
   ]
  },
  {
   "cell_type": "code",
   "execution_count": 22,
   "metadata": {},
   "outputs": [
    {
     "name": "stdout",
     "output_type": "stream",
     "text": [
      "Hello,\n",
      "\n",
      "Thank you for reaching out to us with your issue. I understand that you are experiencing difficulties with [describe the issue]. \n",
      "\n",
      "To troubleshoot this issue, please try the following steps:\n",
      "1. Restart your device and try again.\n",
      "2. Check your internet connection to ensure it is stable.\n",
      "3. Clear your browser cache and cookies.\n",
      "4. Try accessing the website or app from a different device.\n",
      "5. Update your browser or app to the latest version.\n",
      "\n",
      "If the issue persists after trying these steps, please provide us with more details such as any error messages you are receiving or any specific actions that trigger the problem. This will help us further investigate and assist you in resolving the issue.\n",
      "\n",
      "Thank you for your patience and cooperation. We are here to help you.\n",
      "\n",
      "Best regards,\n",
      "[Your Name]\n",
      "Customer Support Team\n"
     ]
    }
   ],
   "source": [
    "user_prompt = '''Generate a response to the customer ticket with troubleshoot steps{first_customer_support_ticket}'''\n",
    "print(get_response(user_prompt))"
   ]
  },
  {
   "cell_type": "markdown",
   "metadata": {},
   "source": [
    "##### Use specific exampleas like structure, tone by giving example to prompt"
   ]
  },
  {
   "cell_type": "code",
   "execution_count": 23,
   "metadata": {},
   "outputs": [],
   "source": [
    "user_prompt = f'''Compose a customer support response for a ticket\n",
    "where the customer reports a technical issue with a purchased product.\n",
    "\n",
    "Customer Support Ticket:{first_customer_support_ticket}\n",
    "\n",
    "Here is an example for your reference:\n",
    "\n",
    "Dear Jerry,\n",
    "\n",
    "Hello! Thank you for getting in touch with us, and we're really sorry for the trouble you're having logging\n",
    "into your account. We totally understand how frustrating this can be, and we're here to make things right.\n",
    "\n",
    "We noticed you've already tried a few things to fix it, and we appreciate your efforts.\n",
    "Could you please give these steps a shot? It might help:\n",
    "\n",
    "Clear Browser Data: Try clearing not just the cache but also cookies and history.\n",
    "In Google Chrome, you can find this in \"Settings\" under \"Privacy and security.\"\n",
    "Click \"Clear browsing data\" and choose cookies and browsing history.\n",
    "Try a Different Browser: Sometimes, using another browser like Mozilla Firefox or Microsoft Edge can work better.\n",
    "Disable Browser Extensions: Some add-ons can cause issues. Temporarily turn off any extensions and see if that helps.\n",
    "If these steps don't do the trick, could you tell us:\n",
    "\n",
    "Are you seeing any error messages other than \"Invalid Credentials\"?\n",
    "Have you tried logging in from another device or network?\n",
    "Can you log in successfully with the same details on other platforms?\n",
    "We're eager to help and want to get this sorted for you. Sorry again for any hassle this has caused.\n",
    "Your patience means a lot to us.\n",
    "\n",
    "Let us know how it goes or if you have any questions.\n",
    "We're here for you and are committed to fixing this as fast as we can.\n",
    "\n",
    "Warm regards,\n",
    "\n",
    "[Your Name]\n",
    "Customer Support Team\n",
    "'''"
   ]
  },
  {
   "cell_type": "code",
   "execution_count": 24,
   "metadata": {},
   "outputs": [
    {
     "name": "stdout",
     "output_type": "stream",
     "text": [
      "Dear John Doe,\n",
      "\n",
      "Hello! Thank you for reaching out to us about the issue you're experiencing with logging into your account. We apologize for any inconvenience this has caused you and we appreciate your detailed description of the problem.\n",
      "\n",
      "We understand that you've already tried a few troubleshooting steps, but it seems like the issue is still persisting. We're here to assist you further and get this resolved as quickly as possible.\n",
      "\n",
      "Based on the information you provided, it seems like you've already tried clearing your browser cache and resetting your password. Since the issue is still occurring, we recommend trying the following steps:\n",
      "\n",
      "1. Double-check your username and password to ensure there are no typos or errors.\n",
      "2. Try logging in from a different device or network to see if the issue is specific to your current setup.\n",
      "3. If possible, try using a different browser or device to access your account.\n",
      "\n",
      "If none of these steps resolve the issue, please let us know and we'll investigate further to identify the root cause of the problem. Your satisfaction is our top priority, and we're committed to helping you regain access to your account.\n",
      "\n",
      "Thank you for your patience and cooperation as we work to resolve this issue for you. We're here to support you every step of the way.\n",
      "\n",
      "Warm regards,\n",
      "\n",
      "[Your Name]\n",
      "Customer Support Team\n"
     ]
    }
   ],
   "source": [
    "print(get_response(user_prompt))"
   ]
  },
  {
   "cell_type": "markdown",
   "metadata": {},
   "source": [
    "### Vary the prompt and Iterate"
   ]
  },
  {
   "cell_type": "code",
   "execution_count": 25,
   "metadata": {},
   "outputs": [
    {
     "name": "stdout",
     "output_type": "stream",
     "text": [
      "Dear John Doe,\n",
      "\n",
      "Thank you for reaching out to us regarding the technical issue you are experiencing with accessing your account on our platform. We sincerely apologize for any inconvenience this has caused you.\n",
      "\n",
      "Based on the information you have provided, it seems that you have already taken some troubleshooting steps such as clearing your browser cache and resetting your password. We appreciate your efforts in trying to resolve the issue on your end.\n",
      "\n",
      "To further assist you, we recommend trying the following steps:\n",
      "1. Please ensure that you are entering your username and password correctly, taking into account any capitalization or special characters.\n",
      "2. Try accessing your account using a different web browser or device to see if the issue persists.\n",
      "3. If the problem continues, please reach out to our support team at [support email or phone number] with the additional information requested.\n",
      "\n",
      "We understand the importance of resolving this issue promptly for you to continue using our services without any disruptions. Rest assured that our team is dedicated to assisting you in resolving this matter as quickly as possible.\n",
      "\n",
      "Thank you for your patience and understanding. We look forward to hearing from you soon.\n",
      "\n",
      "Best regards,\n",
      "[Your Name]\n",
      "Customer Support Team\n"
     ]
    }
   ],
   "source": [
    "user_prompt = f'''Compose a customer support response for a ticket where\n",
    "the customer reports a technical issue with a purchased product with a more formal and professional tone.\n",
    "Maintain a focus on providing clear instructions while expressing empathy for the inconvenience caused.\n",
    "Use a structured approach and avoid informal language\n",
    "\n",
    "Customer Support Ticket:{first_customer_support_ticket}'''\n",
    "\n",
    "print(get_response(user_prompt))"
   ]
  },
  {
   "cell_type": "markdown",
   "metadata": {},
   "source": [
    "### Use the Delimiter\n",
    "\n",
    "Delimiters are special symbols that helps you understanding the text in a better manner like comma"
   ]
  },
  {
   "cell_type": "code",
   "execution_count": 26,
   "metadata": {},
   "outputs": [],
   "source": [
    "customer_support_tickets=['''Dear Support Team,\n",
    "\n",
    "I hope this message finds you well.\n",
    "I'm experiencing difficulties accessing my account on your platform.\n",
    "When I attempt to log in, I receive an error message stating, \"Invalid Credentials.\"\n",
    "I've double-checked my username and password, and they are correct.\n",
    "\n",
    "Details:\n",
    "- Username: johndoe123\n",
    "- Browser: Google Chrome\n",
    "- Operating System: Windows 10\n",
    "\n",
    "I have tried clearing my browser cache and resetting my password, but the issue persists.\n",
    "This is affecting my ability to use your services, and I would appreciate a prompt resolution.\n",
    "\n",
    "Please let me know if you require any additional information to assist with troubleshooting.\n",
    "\n",
    "Thank you,\n",
    "John Doe'''\n",
    ",\n",
    "'''\n",
    "Dear Support Team,\n",
    "I'm conveyed about my bill and have raised this multile times for last 3 months.\n",
    "Please resolve it on priority'''\n",
    "]"
   ]
  },
  {
   "cell_type": "code",
   "execution_count": 27,
   "metadata": {},
   "outputs": [],
   "source": [
    "user_prompt = '''classify the customer support tickets into broad categories such as 'Technical Issues,' 'Billing Inquiries,' and 'Product Feedback.\n",
    "\n",
    "[Dear Support Team,\n",
    "\n",
    "I hope this message finds you well.\n",
    "I'm experiencing difficulties accessing my account on your platform.\n",
    "When I attempt to log in, I receive an error message stating, \"Invalid Credentials.\"\n",
    "I've double-checked my username and password, and they are correct.\n",
    "\n",
    "Details:\n",
    "- Username: johndoe123\n",
    "- Browser: Google Chrome\n",
    "- Operating System: Windows 10\n",
    "\n",
    "I have tried clearing my browser cache and resetting my password, but the issue persists.\n",
    "This is affecting my ability to use your services, and I would appreciate a prompt resolution.\n",
    "\n",
    "Please let me know if you require any additional information to assist with troubleshooting.\n",
    "\n",
    "Thank you,\n",
    "John Doe\n",
    ",\n",
    "\n",
    "Dear Support Team,\n",
    "I'm conveyed about my bill and have raised this multile times for last 3 months.\n",
    "Please resolve it on priority\n",
    "]'''"
   ]
  },
  {
   "cell_type": "code",
   "execution_count": 28,
   "metadata": {},
   "outputs": [
    {
     "name": "stdout",
     "output_type": "stream",
     "text": [
      "Technical Issues: \n",
      "- Difficulty accessing account due to \"Invalid Credentials\" error message\n",
      "- Troubleshooting steps taken (clearing browser cache, resetting password)\n",
      "- Impact on ability to use services\n",
      "\n",
      "Billing Inquiries:\n",
      "- Issue with billing for the past 3 months\n",
      "- Request for prompt resolution\n",
      "\n",
      "Product Feedback:\n",
      "- None mentioned in the provided tickets\n"
     ]
    }
   ],
   "source": [
    "print(get_response(user_prompt))"
   ]
  },
  {
   "cell_type": "code",
   "execution_count": 29,
   "metadata": {},
   "outputs": [
    {
     "name": "stdout",
     "output_type": "stream",
     "text": [
      "1. Technical Issues: \n",
      "- Difficulty accessing account due to \"Invalid Credentials\" error message\n",
      "- Browser and operating system details provided for troubleshooting\n",
      "\n",
      "2. Billing Inquiries:\n",
      "- Concerns about billing and multiple requests for resolution over the past 3 months\n"
     ]
    }
   ],
   "source": [
    "user_prompt = '''classify all the customer support tickets within <> into\n",
    "broad categories such as 'Technical Issues,' 'Billing Inquiries,' and 'Product Feedback.\n",
    "\n",
    "<Dear Support Team,\n",
    "\n",
    "I hope this message finds you well.\n",
    "I'm experiencing difficulties accessing my account on your platform.\n",
    "When I attempt to log in, I receive an error message stating, \"Invalid Credentials.\"\n",
    "I've double-checked my username and password, and they are correct.\n",
    "\n",
    "Details:\n",
    "- Username: johndoe123\n",
    "- Browser: Google Chrome\n",
    "- Operating System: Windows 10\n",
    "\n",
    "I have tried clearing my browser cache and resetting my password, but the issue persists.\n",
    "This is affecting my ability to use your services, and I would appreciate a prompt resolution.\n",
    "\n",
    "Please let me know if you require any additional information to assist with troubleshooting.\n",
    "\n",
    "Thank you,\n",
    "John Doe>\n",
    "\n",
    "<Dear Support Team,\n",
    "I'm conveyed about my bill and have raised this multile times for last 3 months. Please resolve it on priority>\n",
    "'''\n",
    "print(get_response(user_prompt))"
   ]
  },
  {
   "cell_type": "markdown",
   "metadata": {},
   "source": [
    "Iterate over multiple"
   ]
  },
  {
   "cell_type": "code",
   "execution_count": 30,
   "metadata": {},
   "outputs": [
    {
     "name": "stdout",
     "output_type": "stream",
     "text": [
      "Technical Issues\n",
      "Category: Billing Inquiries\n"
     ]
    }
   ],
   "source": [
    "for customer_support_ticket in customer_support_tickets:\n",
    "\n",
    "  user_prompt = f'''classify the customer support ticket delimited by <> into broad categories\n",
    "  such as Technical Issues, Billing Inquiries, and Product Feedback <{customer_support_ticket}>\n",
    "  '''\n",
    "\n",
    "  print(get_response(user_prompt))"
   ]
  },
  {
   "cell_type": "markdown",
   "metadata": {},
   "source": [
    "#### Specify Structured Output Format"
   ]
  },
  {
   "cell_type": "code",
   "execution_count": 31,
   "metadata": {},
   "outputs": [
    {
     "name": "stdout",
     "output_type": "stream",
     "text": [
      "{\n",
      "  \"Username\": \"johndoe123\",\n",
      "  \"Browser\": \"Google Chrome\",\n",
      "  \"Operating System\": \"Windows 10\"\n",
      "}\n"
     ]
    }
   ],
   "source": [
    "user_prompt = f'''\n",
    "Extract JSON information from the customer support ticket.\n",
    "\n",
    "Given the following ticket content:\n",
    "\n",
    "{first_customer_support_ticket}\n",
    "\n",
    "Please provide the JSON representation of essential details such as:\n",
    "- Username\n",
    "- Browser\n",
    "- Operating System\n",
    "\n",
    "Ensure the JSON format includes key-value pairs for each detail.\n",
    "'''\n",
    "print(get_response(user_prompt))"
   ]
  },
  {
   "cell_type": "markdown",
   "metadata": {},
   "source": [
    "### Use of Temperature Parameter\n",
    "Low temperature give you more deterministic outcome,\n",
    "High temperature gives you non-deterministic outcome"
   ]
  },
  {
   "cell_type": "code",
   "execution_count": 32,
   "metadata": {},
   "outputs": [
    {
     "name": "stdout",
     "output_type": "stream",
     "text": [
      "1. DataWise Academy\n",
      "2. DataMastery Institute\n",
      "3. DataPro Learning\n",
      "4. DataGenius University\n",
      "5. DataCrafters Academy\n",
      "6. DataElite Institute\n",
      "7. DataSphere Learning\n",
      "8. DataXpert Academy\n",
      "9. DataNinja University\n",
      "10. DataSavvy Institute\n"
     ]
    }
   ],
   "source": [
    "user_prompt = \"Generate 10 brand names for e learning in data science.\"\n",
    "print(get_response(user_prompt,0))"
   ]
  },
  {
   "cell_type": "code",
   "execution_count": 33,
   "metadata": {},
   "outputs": [
    {
     "name": "stdout",
     "output_type": "stream",
     "text": [
      "1. DataWise Academy\n",
      "2. DataMinds Institute\n",
      "3. DataPro Learning\n",
      "4. DataGenius University\n",
      "5. DataMaster Academy\n",
      "6. DataTech Institute\n",
      "7. DataSavvy School\n",
      "8. DataElite Learning\n",
      "9. DataIQ Academy\n",
      "10. DataNinja University\n"
     ]
    }
   ],
   "source": [
    "user_prompt = \"Generate 10 brand names for e learning in data science.\"\n",
    "print(get_response(user_prompt,0))"
   ]
  },
  {
   "cell_type": "code",
   "execution_count": 34,
   "metadata": {},
   "outputs": [
    {
     "name": "stdout",
     "output_type": "stream",
     "text": [
      "1. DataMind Academy\n",
      "2. DataScienceU\n",
      "3. AnalyticaEd\n",
      "4. ByteLearnData\n",
      "5. SkillCruncher\n",
      "6. DataWizard Academy\n",
      "7. Insightful Learning\n",
      "8. ByteForge Academy\n",
      "9. DataXcel Institute\n",
      "10. DataMasters Academy\n"
     ]
    }
   ],
   "source": [
    "user_prompt = \"Generate 10 brand names for e learning in data science.\"\n",
    "print(get_response(user_prompt,1))"
   ]
  },
  {
   "cell_type": "code",
   "execution_count": 35,
   "metadata": {},
   "outputs": [
    {
     "name": "stdout",
     "output_type": "stream",
     "text": [
      "1. DataWave Learning\n",
      "2. Analytix Academy\n",
      "3. Dataguru Education\n",
      "4. Insightful Minds Institute\n",
      "5. Big Data University\n",
      "6. DataWhiz Learning\n",
      "7. TechData College\n",
      "8. DataXcelerate School\n",
      "9. DataVerse Institute\n",
      "10. LearnData Labs\n"
     ]
    }
   ],
   "source": [
    "user_prompt = \"Generate 10 brand names for e learning in data science.\"\n",
    "print(get_response(user_prompt,1))"
   ]
  },
  {
   "cell_type": "code",
   "execution_count": null,
   "metadata": {},
   "outputs": [],
   "source": []
  }
 ],
 "metadata": {
  "kernelspec": {
   "display_name": "Python 3",
   "language": "python",
   "name": "python3"
  },
  "language_info": {
   "codemirror_mode": {
    "name": "ipython",
    "version": 3
   },
   "file_extension": ".py",
   "mimetype": "text/x-python",
   "name": "python",
   "nbconvert_exporter": "python",
   "pygments_lexer": "ipython3",
   "version": "3.10.10"
  }
 },
 "nbformat": 4,
 "nbformat_minor": 2
}
