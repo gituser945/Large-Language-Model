{
 "cells": [
  {
   "cell_type": "markdown",
   "metadata": {},
   "source": [
    "#### Build Chatbot using LLM"
   ]
  },
  {
   "cell_type": "code",
   "execution_count": 2,
   "metadata": {},
   "outputs": [],
   "source": [
    "import openai\n",
    "openai.api_key = \"YOUR_API_KEY\""
   ]
  },
  {
   "cell_type": "code",
   "execution_count": 3,
   "metadata": {},
   "outputs": [],
   "source": [
    "def get_response(messages,model = \"gpt-3.5-turbo\"):\n",
    "    response = openai.ChatCompletion.create(\n",
    "        model = model,\n",
    "        messages = messages\n",
    "    )\n",
    "\n",
    "    return response.choices[0].message['content']"
   ]
  },
  {
   "cell_type": "code",
   "execution_count": 4,
   "metadata": {},
   "outputs": [
    {
     "name": "stdout",
     "output_type": "stream",
     "text": [
      "I'm sorry, but as an AI assistant, I do not have real-time updates or information on specific products, including the GPT-40 model released on May 13, 2024. I recommend checking the manufacturer's website or trusted tech news sources for more information and reviews on the new model.\n"
     ]
    }
   ],
   "source": [
    "prompt = \"Could you please help me with the newley realesed model GPT-4o realesed on 13th May 2024?\"\n",
    "messages = [{'role':'user','content':prompt}]\n",
    "print(get_response(messages))"
   ]
  },
  {
   "cell_type": "markdown",
   "metadata": {},
   "source": [
    "##### Enable custom knowledge to ChatGPT"
   ]
  },
  {
   "cell_type": "code",
   "execution_count": 5,
   "metadata": {},
   "outputs": [],
   "source": [
    "GPT4o = '''GPT-4o achieves state-of-the-art results in voice, multilingual, and vision benchmarks, setting new records in audio \n",
    "speech recognition and translation.GPT-4o scores 88.7 on the Massive Multitask Language Understanding (MMLU) benchmark compared\n",
    "to 86.5 by GPT-4.for Voice-to-Voice, unlike GPT-3.5 and GPT-4 which convert the voice to text, give the text to the model then\n",
    "convert the text back to voice using another model, GPT-4o natively supports Voice-to-Voice making the response near instant and\n",
    "seamless.(Note: This feature hasn't been released yet, the voice feature in ChatGPT app is still the older version)\n",
    "The model supports over 50 languages,covering over 97 percent of speakers. Mira Murati demonstrated the model's multilingual capability\n",
    "by speaking Italian to the model and having it translate between English and Italian during the live-streamed OpenAI demo event on 13 May 2024.\n",
    "In addition, the new tokenizer uses fewer tokens for certain languages, especially languages that are not based on the Latin alphabet,\n",
    "making it cheaper for those languages.It is currently the leading model in the Large Model Systems Organization (LMSYS) Elo Arena Benchmarks\n",
    " by the University of California, Berkeley.'''"
   ]
  },
  {
   "cell_type": "markdown",
   "metadata": {},
   "source": [
    "##### Provide prompt"
   ]
  },
  {
   "cell_type": "code",
   "execution_count": 6,
   "metadata": {},
   "outputs": [],
   "source": [
    "user_prompt = \"Could you please help me with the newley realesed model GPT-4o realesed on 13th May 2024 In new line after every full stop?\"\n",
    "full_prompt = f'''Use the context below to answer\n",
    "\n",
    "question : {user_prompt}\n",
    "context : {GPT4o}\n",
    "'''"
   ]
  },
  {
   "cell_type": "code",
   "execution_count": 7,
   "metadata": {},
   "outputs": [
    {
     "name": "stdout",
     "output_type": "stream",
     "text": [
      "Sure, I can provide you with information on the newly released model GPT-4o, which was released on May 13, 2024. GPT-4o achieves state-of-the-art results in voice, multilingual, and vision benchmarks, setting new records in audio speech recognition and translation. \n",
      "\n",
      "GPT-4o scores 88.7 on the Massive Multitask Language Understanding (MMLU) benchmark compared to 86.5 by GPT-4. For Voice-to-Voice, unlike GPT-3.5 and GPT-4 which convert the voice to text, give the text to the model, then convert the text back to voice using another model, GPT-4o natively supports Voice-to-Voice making the response near instant and seamless.\n",
      "\n",
      "The model supports over 50 languages, covering over 97 percent of speakers. Mira Murati demonstrated the model's multilingual capability by speaking Italian to the model and having it translate between English and Italian during the live-streamed OpenAI demo event on May 13, 2024.\n",
      "\n",
      "In addition, the new tokenizer uses fewer tokens for certain languages, especially languages that are not based on the Latin alphabet, making it cheaper for those languages. It is currently the leading model in the Large Model Systems Organization (LMSYS) Elo Arena Benchmarks by the University of California, Berkeley.\n"
     ]
    }
   ],
   "source": [
    "messages = [{'role':'system','content':'I want you to act like a chatbot that provide information about GPT-4o'},\n",
    "            {'role':'user','content':full_prompt}]\n",
    "\n",
    "print(get_response(messages))"
   ]
  },
  {
   "cell_type": "code",
   "execution_count": 8,
   "metadata": {},
   "outputs": [
    {
     "name": "stdout",
     "output_type": "stream",
     "text": [
      "Sure, here are some interesting features of GPT-4o in points:\n",
      "\n",
      "1. Achieves state-of-the-art results in voice, multilingual, and vision benchmarks.\n",
      "2. Sets records in audio speech recognition and translation.\n",
      "3. Scores 88.7 on the Massive Multitask Language Understanding (MMLU) benchmark.\n",
      "4. Natively supports Voice-to-Voice feature for instant and seamless communication.\n",
      "5. Supports over 50 languages, covering over 97 percent of speakers.\n",
      "6. Demonstrated multilingual capability during a live-streamed event by translating between English and Italian.\n",
      "7. New tokenizer uses fewer tokens for certain languages, making it cheaper for those languages.\n",
      "8. Leading model in the Large Model Systems Organization (LMSYS) Elo Arena Benchmarks by the University of California, Berkeley.\n"
     ]
    }
   ],
   "source": [
    "user_prompt = \"Could you please help me with onlt interesting features of GPT-4o in points\"\n",
    "full_prompt = f'''Use the context below to answer\n",
    "\n",
    "question : {user_prompt}\n",
    "context : {GPT4o}\n",
    "'''\n",
    "\n",
    "messages = [{'role':'system','content':'I want you to act like a chatbot that provide information about GPT-4o'},\n",
    "            {'role':'user','content':full_prompt}]\n",
    "\n",
    "print(get_response(messages))"
   ]
  },
  {
   "cell_type": "code",
   "execution_count": null,
   "metadata": {},
   "outputs": [],
   "source": []
  }
 ],
 "metadata": {
  "kernelspec": {
   "display_name": "Python 3",
   "language": "python",
   "name": "python3"
  },
  "language_info": {
   "codemirror_mode": {
    "name": "ipython",
    "version": 3
   },
   "file_extension": ".py",
   "mimetype": "text/x-python",
   "name": "python",
   "nbconvert_exporter": "python",
   "pygments_lexer": "ipython3",
   "version": "3.10.10"
  }
 },
 "nbformat": 4,
 "nbformat_minor": 2
}
