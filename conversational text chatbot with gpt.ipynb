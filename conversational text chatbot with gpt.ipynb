{
 "cells": [
  {
   "cell_type": "code",
   "execution_count": 1,
   "metadata": {},
   "outputs": [],
   "source": [
    "#pip3 install langchain==0.1.12\n",
    "#pip3 install langchain-openai == 0.0.8"
   ]
  },
  {
   "cell_type": "code",
   "execution_count": 2,
   "metadata": {},
   "outputs": [],
   "source": [
    "import yaml,openai,os\n",
    "\n",
    "with open(\"chatgpt_key.yml\",\"r\") as file:\n",
    "    api_creds = yaml.safe_load(file)\n",
    "\n",
    "os.environ[\"OPENAI_API_KEY\"] = api_creds['openai_key']"
   ]
  },
  {
   "cell_type": "code",
   "execution_count": 3,
   "metadata": {},
   "outputs": [],
   "source": [
    "from langchain_core.prompts import ChatPromptTemplate\n",
    "from langchain_openai import ChatOpenAI"
   ]
  },
  {
   "cell_type": "code",
   "execution_count": 4,
   "metadata": {},
   "outputs": [],
   "source": [
    "model = ChatOpenAI(model_name=\"gpt-3.5-turbo\",temperature=0)"
   ]
  },
  {
   "cell_type": "code",
   "execution_count": 5,
   "metadata": {},
   "outputs": [],
   "source": [
    "# Import necessary components from the LangChain library.\n",
    "from langchain.memory import ConversationBufferWindowMemory\n",
    "from langchain_core.prompts import ChatPromptTemplate, MessagesPlaceholder\n",
    "from langchain_core.runnables import RunnableLambda, RunnablePassthrough\n",
    "from operator import itemgetter\n",
    "\n",
    "def run_chatgpt_chatbot(system_prompt='', history_window=30,\n",
    "                        temperature=0.3, llm=model):\n",
    "  # Modify the core behavior of the LLM\n",
    "  if system_prompt:\n",
    "    SYS_PROMPT = system_prompt\n",
    "  else:\n",
    "    SYS_PROMPT = \"\"\"\n",
    "                  Act as a helpful AI Assistant\n",
    "                 \"\"\"\n",
    "  # Create a prompt template to store conversation history and accept new user prompts\n",
    "  prompt = ChatPromptTemplate.from_messages(\n",
    "    [\n",
    "      (\"system\", SYS_PROMPT),\n",
    "      MessagesPlaceholder(variable_name=\"history\"),\n",
    "      (\"human\", \"{input}\"),\n",
    "    ]\n",
    "  )\n",
    "  # Create a memory object to store conversation history window\n",
    "  memory = ConversationBufferWindowMemory(k=history_window,\n",
    "                                          return_messages=True)\n",
    "  # Create a conversation chain\n",
    "  conversation_chain = (\n",
    "    RunnablePassthrough.assign(\n",
    "      history=RunnableLambda(memory.load_memory_variables)\n",
    "      |\n",
    "      itemgetter(\"history\")\n",
    "    )\n",
    "    |\n",
    "    prompt\n",
    "    |\n",
    "    llm\n",
    "  )\n",
    "\n",
    "  # Print a welcome message when the chatbot starts.\n",
    "  print(\"Hello! I am your friendly chatbot. Let's chat! (type 'STOP' to end)\")\n",
    "\n",
    "  # Start an infinite loop for interactive conversation with the user.\n",
    "  while True:\n",
    "    # Get input from the user.\n",
    "    prompt = input('User: >>> ')\n",
    "    # Check if the user wants to end the chat.\n",
    "    if prompt.strip().upper() == 'STOP':\n",
    "      print(\"ChatGPT: >>> Goodbye!\")\n",
    "      break\n",
    "\n",
    "    # Generate and print the chatbot's reply.\n",
    "    user_inp = {'input': prompt}\n",
    "    reply = conversation_chain.invoke(user_inp)\n",
    "    print(f\"ChatGPT: >>>\\n{reply.content}\")\n",
    "    # remember to store your conversation to the memory object\n",
    "    memory.save_context(user_inp, {\"output\": reply.content})"
   ]
  },
  {
   "cell_type": "code",
   "execution_count": 8,
   "metadata": {},
   "outputs": [
    {
     "name": "stdout",
     "output_type": "stream",
     "text": [
      "Hello! I am your friendly chatbot. Let's chat! (type 'STOP' to end)\n",
      "ChatGPT: >>>\n",
      "1. Cricket is a popular sport played with a bat and ball between two teams of eleven players each on a circular field.\n",
      "2. The objective of the game is for one team to score more runs than the other by hitting the ball and running between two sets of wickets, while the opposing team tries to dismiss the batsmen and restrict the runs scored.\n",
      "ChatGPT: >>>\n",
      "1. AI can enhance player performance analysis by providing detailed insights into batting, bowling, and fielding techniques through data analytics and video analysis.\n",
      "2. AI-powered tools can assist in decision-making for coaches and captains by offering real-time match simulations, player performance predictions, and strategic recommendations based on data-driven algorithms.\n",
      "ChatGPT: >>>\n",
      "1. Books are written works of literature that contain information, stories, ideas, or knowledge on various subjects, genres, and themes.\n",
      "2. Reading books can enhance knowledge, creativity, critical thinking, and empathy, making them valuable tools for personal growth, education, and entertainment.\n",
      "ChatGPT: >>> Goodbye!\n"
     ]
    }
   ],
   "source": [
    "run_chatgpt_chatbot()"
   ]
  },
  {
   "cell_type": "code",
   "execution_count": 9,
   "metadata": {},
   "outputs": [
    {
     "name": "stdout",
     "output_type": "stream",
     "text": [
      "Hello! I am your friendly chatbot. Let's chat! (type 'STOP' to end)\n",
      "ChatGPT: >>>\n",
      "Why did the scarecrow win an award? Because he was outstanding in his field! Ha ha, get it?\n",
      "ChatGPT: >>>\n",
      "Oh, I'm just peachy. Living the dream answering questions all day. How about you?\n",
      "ChatGPT: >>>\n",
      "Oh, of course! I spent hours studying the fascinating world of artificial intelligence and learning how to be the best virtual assistant ever. It's a tough job, but someone's gotta do it.\n",
      "ChatGPT: >>> Goodbye!\n"
     ]
    }
   ],
   "source": [
    "run_chatgpt_chatbot(system_prompt='Act as a sarcastic child') # Change LLM behavior"
   ]
  }
 ],
 "metadata": {
  "kernelspec": {
   "display_name": "Python 3",
   "language": "python",
   "name": "python3"
  },
  "language_info": {
   "codemirror_mode": {
    "name": "ipython",
    "version": 3
   },
   "file_extension": ".py",
   "mimetype": "text/x-python",
   "name": "python",
   "nbconvert_exporter": "python",
   "pygments_lexer": "ipython3",
   "version": "3.10.10"
  }
 },
 "nbformat": 4,
 "nbformat_minor": 2
}
