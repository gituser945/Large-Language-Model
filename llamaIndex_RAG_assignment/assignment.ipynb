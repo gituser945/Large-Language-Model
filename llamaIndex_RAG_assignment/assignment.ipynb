{
 "cells": [
  {
   "cell_type": "markdown",
   "metadata": {},
   "source": [
    "### Approach 1 - RAG using OPENAI"
   ]
  },
  {
   "cell_type": "code",
   "execution_count": 2,
   "metadata": {},
   "outputs": [],
   "source": [
    "import os\n",
    "from dotenv import load_dotenv,find_dotenv"
   ]
  },
  {
   "cell_type": "code",
   "execution_count": 21,
   "metadata": {},
   "outputs": [],
   "source": [
    "load_dotenv('/Users/nikhil/Desktop/GenAI/Hands-on-practice/llamaIndex_RAG_assignment/.env')\n",
    "OPENAI_API_KEY = os.environ['OPENAI_API_KEY']"
   ]
  },
  {
   "cell_type": "markdown",
   "metadata": {},
   "source": [
    "##### Section 1 : Data Ingestion"
   ]
  },
  {
   "cell_type": "markdown",
   "metadata": {},
   "source": [
    "###### a) Data Loader"
   ]
  },
  {
   "cell_type": "code",
   "execution_count": 22,
   "metadata": {},
   "outputs": [
    {
     "data": {
      "text/plain": [
       "21"
      ]
     },
     "execution_count": 22,
     "metadata": {},
     "output_type": "execute_result"
    }
   ],
   "source": [
    "from llama_index.core import SimpleDirectoryReader\n",
    "documents = SimpleDirectoryReader(\"/Users/nikhil/Desktop/GenAI/Hands-on-practice/llamaIndex_RAG_assignment/data\").load_data()\n",
    "len(documents)\n"
   ]
  },
  {
   "cell_type": "code",
   "execution_count": 23,
   "metadata": {},
   "outputs": [
    {
     "name": "stdout",
     "output_type": "stream",
     "text": [
      "Doc ID: 2e86e67a-90af-4524-adcb-5de8a3aecf29\n",
      "Text: LIC’s New Jeevan Shanti (UIN: 512N338V05)      Page 1 of 21\n",
      "LIFE INSURANCE  CORPORATION  OF INDIA  (Established by the Life\n",
      "Insurance Corporation Act, 1956)  Registration Number: 512\n",
      "LIC’S NEW JEEVAN SHANTI (UIN :...\n",
      "{'page_label': '1', 'file_name': 'Final Policy document_LICs New Jeevan Shanti_V05_logo.pdf', 'file_path': '/Users/nikhil/Desktop/GenAI/Hands-on-practice/llamaIndex_RAG_assignment/data/Final Policy document_LICs New Jeevan Shanti_V05_logo.pdf', 'file_type': 'application/pdf', 'file_size': 588928, 'creation_date': '2024-07-07', 'last_modified_date': '2024-07-07'}\n"
     ]
    }
   ],
   "source": [
    "# Let's check the data\n",
    "print(documents[0])\n",
    "print(documents[0].metadata)"
   ]
  },
  {
   "cell_type": "markdown",
   "metadata": {},
   "source": [
    "###### b) Embedding Model"
   ]
  },
  {
   "cell_type": "code",
   "execution_count": 24,
   "metadata": {},
   "outputs": [],
   "source": [
    "from llama_index.embeddings.openai import OpenAIEmbedding\n",
    "embed_model = OpenAIEmbedding(model='text-embedding-3-small')"
   ]
  },
  {
   "cell_type": "markdown",
   "metadata": {},
   "source": [
    "###### c) Large Language Model"
   ]
  },
  {
   "cell_type": "code",
   "execution_count": 25,
   "metadata": {},
   "outputs": [],
   "source": [
    "from llama_index.llms.openai import OpenAI\n",
    "llm = OpenAI(model=\"gpt-4\")"
   ]
  },
  {
   "cell_type": "markdown",
   "metadata": {},
   "source": [
    "##### Section 2 : Indexing"
   ]
  },
  {
   "cell_type": "code",
   "execution_count": 26,
   "metadata": {},
   "outputs": [],
   "source": [
    "from llama_index.core import VectorStoreIndex\n",
    "index = VectorStoreIndex.from_documents(documents, embed_model=embed_model, llm=llm)"
   ]
  },
  {
   "cell_type": "markdown",
   "metadata": {},
   "source": [
    "##### Section 3 : Retrieval"
   ]
  },
  {
   "cell_type": "code",
   "execution_count": 27,
   "metadata": {},
   "outputs": [
    {
     "data": {
      "text/plain": [
       "'LIC’s New Jeevan Shanti (UIN: 512N338V05)      Page 2 of 21        We would also like to draw your attention to the following aspects: \\n \\n1) Change of Address: In case you change your residence, kindly ensure that you inform the \\nchange in address to the servicing Branch Office. \\n \\n2) Submission of the Existence Certificate:  The Existence Certificate must be submitted by the \\nAnnuitant / Primary Annuitant / Secondary Annuitant (as applicable) in the prescribed format as \\nand when required by the Corporation. The Annuity payments shall be released only on receipt \\nof the Existence Certificate. \\n \\n3) Assignment: Assignment should be in accordance with the provisions of Section 38 of the \\nInsurance Act 1938, as amended from time to time. The current provisions of Section 38 are \\nenclosed as Annexure- I for reference.  \\n \\n4) Nomination: Nomination should be in accordance with provisions of Section 39 of the Insurance \\nAct, 1938, as amended from time to time. The current provisions of Section 39 are enclosed as \\nAnnexure -II for reference. \\n \\n5) Within 90 days from the date of death, intimation of death along with death certificate must be \\nnotified in writing to the office of the Corporation where the policy is serviced for any claims to be \\nadmissible. However, delay in intimation of the genuine claim by the claimant may be condoned \\nby the Corporation on merit and where delay is proved to be for the reasons beyond his/her \\ncontrol. \\n \\n6) The provisions of Section 45 of Insurance Act, 1938 as amended from time to time shall be \\napplicable. The current provisions of the same are enclosed as Annexure-III. \\n \\n7) Various Sections of the Insurance Act, 1938, applicable to LIC to apply as amended from time to \\ntime. \\n \\n8) The approved version of Policy Document in respect of this Plan is available on our website: \\nwww.licindia.in  \\n \\n9) Please visit our website: www.licindia.in  to avail LIC’s e-services. \\n \\n10) For Customer Services, you can contact LIC call centre at +91-02268276827 whose services are \\navailable 24*7 in English, Hindi and 8 Regional Languages. \\n \\n \\nThese measures will enable us to serve you better.'"
      ]
     },
     "execution_count": 27,
     "metadata": {},
     "output_type": "execute_result"
    }
   ],
   "source": [
    "retrieval = index.as_retriever()\n",
    "retrieved_nodes = retrieval.retrieve(\"What is the main purpose of LIC\")\n",
    "retrieved_nodes[0].text"
   ]
  },
  {
   "cell_type": "markdown",
   "metadata": {},
   "source": [
    "##### Section 4 : Response Synthesis"
   ]
  },
  {
   "cell_type": "code",
   "execution_count": 28,
   "metadata": {},
   "outputs": [],
   "source": [
    "from llama_index.core import get_response_synthesizer\n",
    "response_synthesizer = get_response_synthesizer(llm=llm)"
   ]
  },
  {
   "cell_type": "markdown",
   "metadata": {},
   "source": [
    "##### Section 5 : Query Engine"
   ]
  },
  {
   "cell_type": "code",
   "execution_count": 29,
   "metadata": {},
   "outputs": [
    {
     "name": "stdout",
     "output_type": "stream",
     "text": [
      "1. LIC's main purpose is to provide life insurance coverage to individuals.\n",
      "2. It offers a variety of insurance plans, including the New Jeevan Shanti plan.\n",
      "3. The New Jeevan Shanti plan is a non-linked, non-participating, individual, single premium, deferred annuity plan.\n",
      "4. LIC provides a free look period, allowing policyholders to return the policy within 30 days if they disagree with any terms and conditions.\n",
      "5. It requires policyholders to inform the servicing branch office in case of a change in residence.\n",
      "6. It requires submission of an Existence Certificate by the annuitant for the release of annuity payments.\n",
      "7. It allows for assignment and nomination in accordance with the provisions of the Insurance Act, 1938.\n",
      "8. It requires notification of death within 90 days for any claims to be admissible.\n",
      "9. It provides customer services through a call centre available 24/7 in English, Hindi, and 8 regional languages.\n",
      "10. It offers e-services through its website and has the approved version of the policy document available online.\n"
     ]
    }
   ],
   "source": [
    "query_engine = index.as_query_engine(llm=llm,response_synthesizer=response_synthesizer)\n",
    "response = query_engine.query(\"What is the main purpose of LIC, give me top 10 response in points\")\n",
    "print(response.response)\n"
   ]
  },
  {
   "cell_type": "markdown",
   "metadata": {},
   "source": [
    "### Approach 2 - RAG using HuggingFace"
   ]
  },
  {
   "cell_type": "code",
   "execution_count": 3,
   "metadata": {},
   "outputs": [],
   "source": [
    "load_dotenv('/Users/nikhil/Desktop/GenAI/Hands-on-practice/llamaIndex_RAG_assignment/.env')\n",
    "huggingface_key = os.environ['huggingface_api_key']"
   ]
  },
  {
   "cell_type": "code",
   "execution_count": 6,
   "metadata": {},
   "outputs": [
    {
     "ename": "ImportError",
     "evalue": "cannot import name 'HuggingFaceLLM' from 'llama_index.core.llms' (/Library/Frameworks/Python.framework/Versions/3.12/lib/python3.12/site-packages/llama_index/core/llms/__init__.py)",
     "output_type": "error",
     "traceback": [
      "\u001b[0;31m---------------------------------------------------------------------------\u001b[0m",
      "\u001b[0;31mImportError\u001b[0m                               Traceback (most recent call last)",
      "\u001b[1;32m/Users/nikhil/Desktop/GenAI/Hands-on-practice/llamaIndex_RAG_assignment/assignment.ipynb Cell 22\u001b[0m line \u001b[0;36m1\n\u001b[0;32m----> <a href='vscode-notebook-cell:/Users/nikhil/Desktop/GenAI/Hands-on-practice/llamaIndex_RAG_assignment/assignment.ipynb#X30sZmlsZQ%3D%3D?line=0'>1</a>\u001b[0m \u001b[39mfrom\u001b[39;00m \u001b[39mllama_index\u001b[39;00m\u001b[39m.\u001b[39;00m\u001b[39mcore\u001b[39;00m\u001b[39m.\u001b[39;00m\u001b[39mllms\u001b[39;00m \u001b[39mimport\u001b[39;00m HuggingFaceLLM\n\u001b[1;32m      <a href='vscode-notebook-cell:/Users/nikhil/Desktop/GenAI/Hands-on-practice/llamaIndex_RAG_assignment/assignment.ipynb#X30sZmlsZQ%3D%3D?line=1'>2</a>\u001b[0m \u001b[39mfrom\u001b[39;00m \u001b[39mllama_index\u001b[39;00m\u001b[39m.\u001b[39;00m\u001b[39mllms\u001b[39;00m\u001b[39m.\u001b[39;00m\u001b[39mhuggingface_api\u001b[39;00m \u001b[39mimport\u001b[39;00m HuggingFaceInferenceAPI\n",
      "\u001b[0;31mImportError\u001b[0m: cannot import name 'HuggingFaceLLM' from 'llama_index.core.llms' (/Library/Frameworks/Python.framework/Versions/3.12/lib/python3.12/site-packages/llama_index/core/llms/__init__.py)"
     ]
    }
   ],
   "source": [
    "from llama_index.core.llms import HuggingFaceLLM\n",
    "from llama_index.llms.huggingface_api import HuggingFaceInferenceAPI"
   ]
  },
  {
   "cell_type": "code",
   "execution_count": null,
   "metadata": {},
   "outputs": [],
   "source": []
  }
 ],
 "metadata": {
  "kernelspec": {
   "display_name": "Python 3",
   "language": "python",
   "name": "python3"
  },
  "language_info": {
   "codemirror_mode": {
    "name": "ipython",
    "version": 3
   },
   "file_extension": ".py",
   "mimetype": "text/x-python",
   "name": "python",
   "nbconvert_exporter": "python",
   "pygments_lexer": "ipython3",
   "version": "3.12.2"
  }
 },
 "nbformat": 4,
 "nbformat_minor": 2
}
