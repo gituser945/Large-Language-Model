{
 "cells": [
  {
   "cell_type": "code",
   "execution_count": 23,
   "metadata": {},
   "outputs": [],
   "source": [
    "import openai\n",
    "openai.api_key = \"YOUR OPENAI_API_KEY\""
   ]
  },
  {
   "cell_type": "code",
   "execution_count": 24,
   "metadata": {},
   "outputs": [],
   "source": [
    "def get_response(messages,model=\"gpt-3.5-turbo\"):\n",
    "    response = openai.ChatCompletion.create(\n",
    "        model = model,\n",
    "        messages = messages\n",
    "    )\n",
    "\n",
    "    return response.choices[0].message['content']"
   ]
  },
  {
   "cell_type": "markdown",
   "metadata": {},
   "source": [
    "#### MedMCQA Casestudy\n",
    "\n",
    "\n",
    "MedMCQA is a large-scale, Multiple-Choice Question Answering (MCQA) dataset designed to address real-world medical entrance exam questions.\n",
    "\n",
    "MedMCQA has more than 194k high-quality AIIMS & NEET PG entrance exam MCQs covering 2.4k healthcare topics and 21 medical subjects are collected with an average token length of 12.77 and high topical diversity.\n",
    "\n",
    "Link to the dataset:https://huggingface.co/datasets/medmcqa?row=12"
   ]
  },
  {
   "cell_type": "code",
   "execution_count": 25,
   "metadata": {},
   "outputs": [],
   "source": [
    "first_question= '''Following endaerectomy on the right common carotid, a patient is found to be blind in the right eye.\n",
    "It is appears that a small thrombus embolized during surgery and lodged in the aery supplying the optic nerve.\n",
    "Which aery would be blocked?\n",
    "(A)Central aery of the retina\n",
    "(B)Infraorbital aery\n",
    "(C)Lacrimal aery\n",
    "(D)Nasociliary aretry\n",
    "'''\n",
    "\n",
    "first_question_answer= 'A'"
   ]
  },
  {
   "cell_type": "code",
   "execution_count": 26,
   "metadata": {},
   "outputs": [],
   "source": [
    "second_question='''All of the following are surgical options for morbid obesity except -\n",
    "(A)Adjustable gastric banding\n",
    "(B)Biliopancreatic diversion\n",
    "(C)Duodenal Switch\n",
    "(D)Roux en Y Duodenal By pass\n",
    "'''\n",
    "\n",
    "second_question_answer='D'"
   ]
  },
  {
   "cell_type": "code",
   "execution_count": 33,
   "metadata": {},
   "outputs": [],
   "source": [
    "third_question='''Scrub typhus is transmitted by: September 2004\n",
    "(A)Louse\n",
    "(B)Tick \n",
    "(C)Mite\n",
    "(D)Milk\n",
    "'''"
   ]
  },
  {
   "cell_type": "markdown",
   "metadata": {},
   "source": [
    "#### Few Shot Prompting"
   ]
  },
  {
   "cell_type": "code",
   "execution_count": 34,
   "metadata": {},
   "outputs": [],
   "source": [
    "system_role = \"You are a helpful assistant that answer multiple choice on medical knowledge\""
   ]
  },
  {
   "cell_type": "code",
   "execution_count": 35,
   "metadata": {},
   "outputs": [],
   "source": [
    "user_prompt = f'''\n",
    "Question:{first_question}\n",
    "Answer:{first_question_answer}\n",
    "\n",
    "Question:{second_question}\n",
    "Answer:{second_question_answer}\n",
    "\n",
    "Question:{third_question}\n",
    "Answer:\n",
    "\n",
    "'''"
   ]
  },
  {
   "cell_type": "code",
   "execution_count": 36,
   "metadata": {},
   "outputs": [
    {
     "name": "stdout",
     "output_type": "stream",
     "text": [
      "\n",
      "Question:Following endaerectomy on the right common carotid, a patient is found to be blind in the right eye.\n",
      "It is appears that a small thrombus embolized during surgery and lodged in the aery supplying the optic nerve.\n",
      "Which aery would be blocked?\n",
      "(A)Central aery of the retina\n",
      "(B)Infraorbital aery\n",
      "(C)Lacrimal aery\n",
      "(D)Nasociliary aretry\n",
      "\n",
      "Answer:A\n",
      "\n",
      "Question:All of the following are surgical options for morbid obesity except -\n",
      "(A)Adjustable gastric banding\n",
      "(B)Biliopancreatic diversion\n",
      "(C)Duodenal Switch\n",
      "(D)Roux en Y Duodenal By pass\n",
      "\n",
      "Answer:D\n",
      "\n",
      "Question:Scrub typhus is transmitted by: September 2004\n",
      "(A)Louse\n",
      "(B)Tick \n",
      "(C)Mite\n",
      "(D)Milk\n",
      "\n",
      "Answer:\n",
      "\n",
      "\n"
     ]
    }
   ],
   "source": [
    "print(user_prompt)"
   ]
  },
  {
   "cell_type": "code",
   "execution_count": 37,
   "metadata": {},
   "outputs": [],
   "source": [
    "messages = [{'role':'system','content':system_role},\n",
    "            {'role':'user','content':user_prompt}]"
   ]
  },
  {
   "cell_type": "code",
   "execution_count": 38,
   "metadata": {},
   "outputs": [
    {
     "name": "stdout",
     "output_type": "stream",
     "text": [
      "C) Mite\n"
     ]
    }
   ],
   "source": [
    "print(get_response(messages))"
   ]
  }
 ],
 "metadata": {
  "kernelspec": {
   "display_name": "Python 3",
   "language": "python",
   "name": "python3"
  },
  "language_info": {
   "codemirror_mode": {
    "name": "ipython",
    "version": 3
   },
   "file_extension": ".py",
   "mimetype": "text/x-python",
   "name": "python",
   "nbconvert_exporter": "python",
   "pygments_lexer": "ipython3",
   "version": "3.10.10"
  }
 },
 "nbformat": 4,
 "nbformat_minor": 2
}
